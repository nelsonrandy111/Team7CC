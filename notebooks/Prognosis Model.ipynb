{
 "cells": [
  {
   "cell_type": "code",
   "execution_count": 26,
   "metadata": {},
   "outputs": [],
   "source": [
    "import pandas as pd\n",
    "\n",
    "url = 'https://raw.githubusercontent.com/nelsonrandy111/Team7CC/main/data/smote_balanced_symbipredict_2022.csv'\n",
    "df = pd.read_csv(url)"
   ]
  },
  {
   "cell_type": "markdown",
   "metadata": {},
   "source": [
    "# Workflow for Patient Symptom Prediction System\n",
    "\n",
    "## 1. Nurse Interface\n",
    "### Service: **AWS S3 (Static Website Hosting)**\n",
    "- **Action**:  \n",
    "  - The nurse accesses a web interface to input patient details.\n",
    "  - Generates a unique link for the patient to input symptoms.\n",
    "- **Output**:  \n",
    "  - A unique link is created and sent to the patient’s phone.\n",
    "\n",
    "---\n",
    "\n",
    "## 2. Patient Interaction\n",
    "### Services: **AWS S3 + AWS SNS**\n",
    "- **AWS SNS (Simple Notification Service)**: Sends the unique link to the patient’s phone via SMS.\n",
    "- **AWS S3**: Hosts the web form for the patient to input symptoms.\n",
    "\n",
    "### Action:\n",
    "1. The patient receives an SMS with the link.\n",
    "2. They click the link, access the web form, and enter their symptoms via a user-friendly interface.\n",
    "\n",
    "---\n",
    "\n",
    "## 3. API Endpoint\n",
    "### Services: **AWS API Gateway + AWS Lambda**\n",
    "- **AWS API Gateway**: Exposes an endpoint to receive patient symptom data.\n",
    "- **AWS Lambda**: Processes the data and runs the ML model.\n",
    "\n",
    "### Action:\n",
    "1. Web form submission triggers an API call to the endpoint.\n",
    "2. **AWS Lambda** processes the submitted data using the deployed machine learning model.\n",
    "\n",
    "---\n",
    "\n",
    "## 4. Machine Learning Model Processing\n",
    "### Services: **AWS Lambda + AWS S3**\n",
    "- **AWS Lambda**: Executes the machine learning model (Logistic Regression).\n",
    "- **AWS S3**: Stores the serialized model and any required dependencies.\n",
    "\n",
    "### Action:\n",
    "1. Lambda retrieves the serialized ML model from **AWS S3**.\n",
    "2. The model predicts the top 5 likely prognoses along with their probabilities based on the patient’s symptoms.\n",
    "\n"
   ]
  },
  {
   "cell_type": "markdown",
   "metadata": {},
   "source": [
    "### **Data Assessment**"
   ]
  },
  {
   "cell_type": "code",
   "execution_count": 27,
   "metadata": {},
   "outputs": [
    {
     "data": {
      "text/plain": [
       "array(['Fungal Infection', 'Allergy', 'GERD', 'Chronic Cholestasis',\n",
       "       'Drug Reaction', 'Peptic Ulcer Disease', 'AIDS', 'Diabetes ',\n",
       "       'Gastroenteritis', 'Bronchial Asthma', 'Hypertension ', 'Migraine',\n",
       "       'Cervical Spondylosis', 'Paralysis (brain hemorrhage)', 'Jaundice',\n",
       "       'Malaria', 'Chickenpox', 'Dengue', 'Typhoid', 'Hepatitis A',\n",
       "       'Hepatitis B', 'Hepatitis C', 'Hepatitis D', 'Hepatitis E',\n",
       "       'Alcoholic Hepatitis', 'Tuberculosis', 'Common Cold', 'Pneumonia',\n",
       "       'Dimorphic Hemmorhoids (piles)', 'Heart Attack', 'Varicose Veins',\n",
       "       'Hypothyroidism', 'Hyperthyroidism', 'Hypoglycemia',\n",
       "       'Osteoarthritis', 'Arthritis', 'Vertigo', 'Acne',\n",
       "       'Urinary Tract Infection', 'Psoriasis', 'Impetigo'], dtype=object)"
      ]
     },
     "execution_count": 27,
     "metadata": {},
     "output_type": "execute_result"
    }
   ],
   "source": [
    "df['prognosis'].unique()"
   ]
  },
  {
   "cell_type": "code",
   "execution_count": 28,
   "metadata": {},
   "outputs": [
    {
     "data": {
      "text/plain": [
       "itching                 0\n",
       "irritability            0\n",
       "depression              0\n",
       "toxic_look_(typhos)     0\n",
       "internal_itching        0\n",
       "                       ..\n",
       "pain_behind_the_eyes    0\n",
       "loss_of_appetite        0\n",
       "nausea                  0\n",
       "malaise                 0\n",
       "prognosis               0\n",
       "Length: 133, dtype: int64"
      ]
     },
     "execution_count": 28,
     "metadata": {},
     "output_type": "execute_result"
    }
   ],
   "source": [
    "df.isna().sum().sort_values(ascending=True)"
   ]
  },
  {
   "cell_type": "markdown",
   "metadata": {},
   "source": [
    "### **Pipeline**"
   ]
  },
  {
   "cell_type": "code",
   "execution_count": 29,
   "metadata": {},
   "outputs": [],
   "source": [
    "from sklearn.pipeline import Pipeline\n",
    "from sklearn.linear_model import LogisticRegression\n",
    "from sklearn.model_selection import train_test_split\n",
    "\n",
    "X = df.drop(columns=['prognosis', 'family_history'])\n",
    "y = df['prognosis']\n",
    "\n",
    "X_train,X_test,y_train,y_test=train_test_split(X,y,random_state=42,test_size=0.2)\n",
    "\n",
    "steps=[('lg',LogisticRegression())]\n",
    "pipe=Pipeline(steps)"
   ]
  },
  {
   "cell_type": "markdown",
   "metadata": {},
   "source": [
    "### **Assessment**"
   ]
  },
  {
   "cell_type": "code",
   "execution_count": 30,
   "metadata": {},
   "outputs": [
    {
     "name": "stdout",
     "output_type": "stream",
     "text": [
      "Classification Report:\n",
      "                               precision    recall  f1-score   support\n",
      "\n",
      "                         AIDS       1.00      1.00      1.00        29\n",
      "                         Acne       1.00      1.00      1.00        25\n",
      "          Alcoholic Hepatitis       1.00      1.00      1.00        29\n",
      "                      Allergy       1.00      1.00      1.00        26\n",
      "                    Arthritis       1.00      1.00      1.00        24\n",
      "             Bronchial Asthma       1.00      1.00      1.00        29\n",
      "         Cervical Spondylosis       1.00      1.00      1.00        21\n",
      "                   Chickenpox       1.00      1.00      1.00        20\n",
      "          Chronic Cholestasis       1.00      1.00      1.00        24\n",
      "                  Common Cold       1.00      1.00      1.00        20\n",
      "                       Dengue       1.00      1.00      1.00        29\n",
      "                    Diabetes        1.00      1.00      1.00        21\n",
      "Dimorphic Hemmorhoids (piles)       1.00      1.00      1.00        18\n",
      "                Drug Reaction       1.00      1.00      1.00        25\n",
      "             Fungal Infection       1.00      1.00      1.00        22\n",
      "                         GERD       1.00      1.00      1.00        31\n",
      "              Gastroenteritis       1.00      1.00      1.00        24\n",
      "                 Heart Attack       1.00      1.00      1.00        25\n",
      "                  Hepatitis A       1.00      1.00      1.00        25\n",
      "                  Hepatitis B       1.00      1.00      1.00        24\n",
      "                  Hepatitis C       1.00      1.00      1.00        23\n",
      "                  Hepatitis D       1.00      1.00      1.00        25\n",
      "                  Hepatitis E       1.00      1.00      1.00        28\n",
      "                Hypertension        1.00      1.00      1.00        20\n",
      "              Hyperthyroidism       1.00      1.00      1.00        31\n",
      "                 Hypoglycemia       1.00      1.00      1.00        20\n",
      "               Hypothyroidism       1.00      1.00      1.00        23\n",
      "                     Impetigo       1.00      1.00      1.00        27\n",
      "                     Jaundice       1.00      1.00      1.00        20\n",
      "                      Malaria       1.00      1.00      1.00        16\n",
      "                     Migraine       1.00      1.00      1.00        20\n",
      "               Osteoarthritis       1.00      1.00      1.00        18\n",
      " Paralysis (brain hemorrhage)       1.00      1.00      1.00        26\n",
      "         Peptic Ulcer Disease       1.00      1.00      1.00        26\n",
      "                    Pneumonia       1.00      1.00      1.00        27\n",
      "                    Psoriasis       1.00      1.00      1.00        29\n",
      "                 Tuberculosis       1.00      1.00      1.00        28\n",
      "                      Typhoid       1.00      1.00      1.00        29\n",
      "      Urinary Tract Infection       1.00      1.00      1.00        22\n",
      "               Varicose Veins       1.00      1.00      1.00        24\n",
      "                      Vertigo       1.00      1.00      1.00        20\n",
      "\n",
      "                     accuracy                           1.00       993\n",
      "                    macro avg       1.00      1.00      1.00       993\n",
      "                 weighted avg       1.00      1.00      1.00       993\n",
      "\n"
     ]
    }
   ],
   "source": [
    "from sklearn.metrics import classification_report\n",
    "\n",
    "# Fit the pipeline to the training data\n",
    "pipe.fit(X_train, y_train)\n",
    "\n",
    "# Predictions\n",
    "y_pred = pipe.predict(X_test)\n",
    "y_proba = pipe.predict_proba(X_test)\n",
    "\n",
    "# Classification report\n",
    "print(\"Classification Report:\")\n",
    "print(classification_report(y_test, y_pred))\n"
   ]
  },
  {
   "cell_type": "code",
   "execution_count": 31,
   "metadata": {},
   "outputs": [
    {
     "name": "stdout",
     "output_type": "stream",
     "text": [
      "Cross-Validation F1 Scores: [1. 1. 1. 1. 1.]\n",
      "Mean F1 Score: 1.0000\n"
     ]
    }
   ],
   "source": [
    "from sklearn.model_selection import cross_val_score\n",
    "scores = cross_val_score(pipe, X, y, cv=5, scoring='f1_macro')  # Adjust scoring if necessary\n",
    "print(f\"Cross-Validation F1 Scores: {scores}\")\n",
    "print(f\"Mean F1 Score: {scores.mean():.4f}\")\n"
   ]
  },
  {
   "cell_type": "markdown",
   "metadata": {},
   "source": [
    "### **Example Patient**"
   ]
  },
  {
   "cell_type": "code",
   "execution_count": 32,
   "metadata": {},
   "outputs": [
    {
     "name": "stdout",
     "output_type": "stream",
     "text": [
      "Predicted prognosis: Fungal Infection\n"
     ]
    }
   ],
   "source": [
    "# List of all symptoms (columns from the dataset)\n",
    "symptoms_list = list(X.columns)\n",
    "\n",
    "# Patient inputs their symptoms as a list\n",
    "patient_symptoms = [\"skin_rash\", \"nodal_skin_eruptions\", \"headache\", ]  # Example input\n",
    "\n",
    "# Create a dictionary with all symptoms set to 0\n",
    "patient_data = {symptom: 0 for symptom in symptoms_list}\n",
    "\n",
    "# Update the symptoms specified by the patient to 1\n",
    "for symptom in patient_symptoms:\n",
    "    if symptom in patient_data:\n",
    "        patient_data[symptom] = 1\n",
    "    else:\n",
    "        print(f\"Warning: {symptom} is not a recognized symptom.\")\n",
    "\n",
    "# Convert to a DataFrame for model input\n",
    "new_patient = pd.DataFrame([patient_data])\n",
    "\n",
    "# Predict prognosis using the trained model\n",
    "prediction = pipe.predict(new_patient)\n",
    "\n",
    "# Display the result\n",
    "print(f\"Predicted prognosis: {prediction[0]}\")\n"
   ]
  },
  {
   "cell_type": "markdown",
   "metadata": {},
   "source": [
    "### **Random Patient Test**"
   ]
  },
  {
   "cell_type": "code",
   "execution_count": 34,
   "metadata": {},
   "outputs": [
    {
     "name": "stdout",
     "output_type": "stream",
     "text": [
      "Symptoms: ['headache', 'blurred_and_distorted_vision', 'depression', 'lack_of_concentration', 'dark_urine']\n",
      "Top 5 Most Likely Prognoses:\n",
      "Hypertension : 43.18%\n",
      "Migraine: 13.69%\n",
      "Paralysis (brain hemorrhage): 6.85%\n",
      "Urinary Tract Infection: 1.98%\n",
      "Allergy: 1.90%\n"
     ]
    }
   ],
   "source": [
    "import random\n",
    "\n",
    "# Randomly select a subset of symptoms for a simulated patient\n",
    "random_symptoms = random.sample(X.columns.tolist(), k=5)  # Pick 5 random symptoms\n",
    "\n",
    "# Create the input for the model based on the random symptoms\n",
    "random_patient_data = {symptom: 0 for symptom in X.columns}\n",
    "for symptom in random_symptoms:\n",
    "    random_patient_data[symptom] = 1\n",
    "\n",
    "# Convert to a DataFrame\n",
    "random_patient = pd.DataFrame([random_patient_data])\n",
    "\n",
    "# Display the random symptoms and the predicted prognosis\n",
    "print(f'Symptoms: {random_symptoms}')\n",
    "\n",
    "# Get the probabilities for each class\n",
    "probabilities = pipe.predict_proba(random_patient)\n",
    "\n",
    "# Combine class labels with their probabilities\n",
    "class_probabilities = list(zip(pipe.classes_, probabilities[0]))\n",
    "\n",
    "# Sort the classes by probability in descending order\n",
    "sorted_probabilities = sorted(class_probabilities, key=lambda x: x[1], reverse=True)\n",
    "\n",
    "# Get the top 5 most likely prognoses\n",
    "top_5 = sorted_probabilities[:5]\n",
    "\n",
    "# Display the top 5 prognoses\n",
    "print(\"Top 5 Most Likely Prognoses:\")\n",
    "for label, prob in top_5:\n",
    "    print(f\"{label}: {prob * 100:.2f}%\")\n"
   ]
  },
  {
   "cell_type": "code",
   "execution_count": null,
   "metadata": {},
   "outputs": [],
   "source": []
  }
 ],
 "metadata": {
  "kernelspec": {
   "display_name": "base",
   "language": "python",
   "name": "python3"
  },
  "language_info": {
   "codemirror_mode": {
    "name": "ipython",
    "version": 3
   },
   "file_extension": ".py",
   "mimetype": "text/x-python",
   "name": "python",
   "nbconvert_exporter": "python",
   "pygments_lexer": "ipython3",
   "version": "3.12.4"
  }
 },
 "nbformat": 4,
 "nbformat_minor": 2
}
